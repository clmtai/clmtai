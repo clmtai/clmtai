{
 "cells": [
  {
   "cell_type": "code",
   "execution_count": 2,
   "id": "9c38dc5b",
   "metadata": {},
   "outputs": [
    {
     "ename": "AttributeError",
     "evalue": "module 'pymodis' has no attribute 'dataset'",
     "output_type": "error",
     "traceback": [
      "\u001b[0;31m---------------------------------------------------------------------------\u001b[0m",
      "\u001b[0;31mAttributeError\u001b[0m                            Traceback (most recent call last)",
      "Cell \u001b[0;32mIn[2], line 4\u001b[0m\n\u001b[1;32m      1\u001b[0m \u001b[38;5;28;01mimport\u001b[39;00m \u001b[38;5;21;01mpymodis\u001b[39;00m \u001b[38;5;28;01mas\u001b[39;00m \u001b[38;5;21;01mmodis\u001b[39;00m\n\u001b[1;32m      2\u001b[0m \u001b[38;5;28;01mfrom\u001b[39;00m \u001b[38;5;21;01mskimage\u001b[39;00m \u001b[38;5;28;01mimport\u001b[39;00m data\n\u001b[0;32m----> 4\u001b[0m august_2023 \u001b[38;5;241m=\u001b[39m \u001b[43mmodis\u001b[49m\u001b[38;5;241;43m.\u001b[39;49m\u001b[43mdataset\u001b[49m(\u001b[38;5;124m'\u001b[39m\u001b[38;5;124mMCD15A2M\u001b[39m\u001b[38;5;124m'\u001b[39m, day\u001b[38;5;241m=\u001b[39m\u001b[38;5;124m'\u001b[39m\u001b[38;5;124m2023-08-01\u001b[39m\u001b[38;5;124m'\u001b[39m)\n\u001b[1;32m      5\u001b[0m august_2022 \u001b[38;5;241m=\u001b[39m modis\u001b[38;5;241m.\u001b[39mdataset(\u001b[38;5;124m'\u001b[39m\u001b[38;5;124mMCD15A2M\u001b[39m\u001b[38;5;124m'\u001b[39m, day\u001b[38;5;241m=\u001b[39m\u001b[38;5;124m'\u001b[39m\u001b[38;5;124m2022-08-01\u001b[39m\u001b[38;5;124m'\u001b[39m)\n\u001b[1;32m      7\u001b[0m ndvi_2023 \u001b[38;5;241m=\u001b[39m august_2023[\u001b[38;5;124m'\u001b[39m\u001b[38;5;124mBand 3\u001b[39m\u001b[38;5;124m'\u001b[39m] \u001b[38;5;241m-\u001b[39m august_2023[\u001b[38;5;124m'\u001b[39m\u001b[38;5;124mBand 4\u001b[39m\u001b[38;5;124m'\u001b[39m]\n",
      "\u001b[0;31mAttributeError\u001b[0m: module 'pymodis' has no attribute 'dataset'"
     ]
    }
   ],
   "source": [
    "import pymodis as modis\n",
    "\n",
    "august_2023 = modis.dataset(\"MCD15A2M\", day=\"2023-08-01\")\n",
    "august_2022 = modis.dataset(\"MCD15A2M\", day=\"2022-08-01\")\n",
    "\n",
    "ndvi_2023 = august_2023[\"Band 3\"] - august_2023[\"Band 4\"]\n",
    "ndvi_2022 = august_2022[\"Band 3\"] - august_2022[\"Band 4\"]\n",
    "\n",
    "evi_2023 = (\n",
    "    august_2023[\"Band 1\"]\n",
    "    * august_2023[\"Band 2\"]\n",
    "    / (\n",
    "        (august_2023[\"Band 1\"] + august_2023[\"Band 2\"])\n",
    "        * (august_2023[\"Band 3\"] + august_2023[\"Band 4\"])\n",
    "    )\n",
    ")\n",
    "evi_2022 = (\n",
    "    august_2022[\"Band 1\"]\n",
    "    * august_2022[\"Band 2\"]\n",
    "    / (\n",
    "        (august_2022[\"Band 1\"] + august_2022[\"Band 2\"])\n",
    "        * (august_2022[\"Band 3\"] + august_2022[\"Band 4\"])\n",
    "    )\n",
    ")"
   ]
  },
  {
   "cell_type": "code",
   "execution_count": null,
   "id": "93f9077b",
   "metadata": {},
   "outputs": [],
   "source": []
  }
 ],
 "metadata": {
  "kernelspec": {
   "display_name": "clmt-corn-yield-modis",
   "language": "python",
   "name": "clmt-corn-yield-modis"
  },
  "language_info": {
   "codemirror_mode": {
    "name": "ipython",
    "version": 3
   },
   "file_extension": ".py",
   "mimetype": "text/x-python",
   "name": "python",
   "nbconvert_exporter": "python",
   "pygments_lexer": "ipython3",
   "version": "3.11.5"
  }
 },
 "nbformat": 4,
 "nbformat_minor": 5
}
